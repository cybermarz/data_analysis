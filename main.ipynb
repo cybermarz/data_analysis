{
 "cells": [
  {
   "cell_type": "markdown",
   "metadata": {},
   "source": [
    "PW2 Numpy"
   ]
  },
  {
   "cell_type": "code",
   "execution_count": 1,
   "metadata": {},
   "outputs": [
    {
     "name": "stdout",
     "output_type": "stream",
     "text": [
      "<class 'list'>\n",
      "False\n",
      "False\n",
      "False\n",
      "True\n",
      "False\n",
      "False\n",
      "True\n",
      "False\n",
      "False\n",
      "False\n",
      "False\n",
      "True\n",
      "False\n",
      "True\n",
      "False\n",
      "False\n",
      "True\n",
      "False\n",
      "True\n",
      "True\n",
      "False\n",
      "True\n",
      "False\n",
      "False\n",
      "False\n",
      "False\n",
      "True\n",
      "True\n",
      "False\n",
      "False\n",
      "True\n",
      "True\n",
      "False\n",
      "False\n",
      "False\n",
      "True\n",
      "True\n",
      "True\n",
      "False\n",
      "True\n",
      "True\n",
      "False\n",
      "False\n",
      "True\n",
      "True\n",
      "True\n",
      "False\n",
      "False\n",
      "True\n",
      "True\n"
     ]
    }
   ],
   "source": [
    "#Import the numpy so that you can refer to numpy with np. \n",
    "import numpy as np\n",
    "\n",
    "#Create a list subgroup’s grades (15.5,9.3,20.0,18.25) and name it subgroup. \n",
    "subgroups = [15.5,9.3,20.0,18.25]\n",
    "\n",
    "#Create a numpy array from grades and Name this array np_subgroup. \n",
    "np_subgroup = type(subgroups)\n",
    "\n",
    "#Print out the type of np_subgroup to check that you got it right. \n",
    "print(np_subgroup)\n",
    "\n",
    "#Can you make a numpy array out of it and convert the grades to be out of 20? \n",
    "def outof20(val):\n",
    "    val /= 5 \n",
    "    return val\n",
    "\n",
    "grades_516=(74,74,72,72,73,69,69,71,76,71,73,73,74,74,69,70,72,73,75,78,79,76,74,76,72,71,75,77,\n",
    "74,73,74,78,73,75,73,75,75,74,69,71,74,73,73,76,74,74,70,72,77,74)\n",
    "grades_520=(80,75,73,85,73,77,88,79,75,71,78,88,70,84,79,80,92,63,85,88,78,86,64,77,77,78,85,97,\n",
    "64,76,84,98,75,78,79,85,95,84,62,81,94,78,78,86,94,94,77,75,87,94) \n",
    "\n",
    "data516 = np.array(grades_516)\n",
    "for i in range(len(data516)):\n",
    "    outof20(data516[i])\n",
    "\n",
    "data520 = np.array(grades_520)\n",
    "for i in range(len(data520)):\n",
    "    result = outof20(data520[i])\n",
    "    data_bool = np.any(result>16)\n",
    "    print(data_bool)       "
   ]
  },
  {
   "cell_type": "code",
   "execution_count": 2,
   "metadata": {},
   "outputs": [
    {
     "name": "stdout",
     "output_type": "stream",
     "text": [
      "14.4\n",
      "15.8\n",
      "15.8\n"
     ]
    }
   ],
   "source": [
    "import numpy as np\n",
    "#function converts out of 100 to out of 20\n",
    "def outof20(val):\n",
    "    val /= 5 \n",
    "    return val\n",
    "\n",
    "grades_516=(74,74,72,72,73,69,69,71,76,71,73,73,74,74,69,70,72,73,75,78,79,76,74,76,72,71,75,77,\n",
    "74,73,74,78,73,75,73,75,75,74,69,71,74,73,73,76,74,74,70,72,77,74)\n",
    "\n",
    "data516 = np.array(grades_516)\n",
    "for i in range(len(data516)):\n",
    "    result516 = outof20(data516[i])\n",
    "    if(i==20):\n",
    "        print(outof20(data516[i])) \n",
    "    if(i<=20 & i>=10):\n",
    "        print(result516)"
   ]
  },
  {
   "cell_type": "markdown",
   "metadata": {},
   "source": [
    "PW3 Numpy-2"
   ]
  },
  {
   "cell_type": "code",
   "execution_count": 3,
   "metadata": {},
   "outputs": [],
   "source": [
    "import numpy as np\n",
    "\n",
    "grades_516=(74,74,72,72,73,69,69,71,76,71,73,73,74,74,69,70,72,73,75,78,79,76,74,76,72,71,75,77,\n",
    "74,73,74,78,73,75,73,75,75,74,69,71,74,73,73,76,74,74,70,72,77,74)\n",
    "\n",
    "grades_520=(80,75,73,85,73,77,88,79,75,71,78,88,70,84,79,80,92,63,85,88,78,86,64,77,77,78,85,97,\n",
    "64,76,84,98,75,78,79,85,95,84,62,81,94,78,78,86,94,94,77,75,87,94)"
   ]
  },
  {
   "cell_type": "code",
   "execution_count": 4,
   "metadata": {},
   "outputs": [
    {
     "name": "stderr",
     "output_type": "stream",
     "text": [
      "C:\\Users\\User\\AppData\\Local\\Packages\\PythonSoftwareFoundation.Python.3.9_qbz5n2kfra8p0\\LocalCache\\local-packages\\Python39\\site-packages\\numpy\\lib\\function_base.py:2642: RuntimeWarning: invalid value encountered in true_divide\n",
      "  c /= stddev[:, None]\n",
      "C:\\Users\\User\\AppData\\Local\\Packages\\PythonSoftwareFoundation.Python.3.9_qbz5n2kfra8p0\\LocalCache\\local-packages\\Python39\\site-packages\\numpy\\lib\\function_base.py:2643: RuntimeWarning: invalid value encountered in true_divide\n",
      "  c /= stddev[None, :]\n"
     ]
    },
    {
     "data": {
      "text/plain": [
       "array([[1., 1., 1., ..., 1., 1., 1.],\n",
       "       [1., 1., 1., ..., 1., 1., 1.],\n",
       "       [1., 1., 1., ..., 1., 1., 1.],\n",
       "       ...,\n",
       "       [1., 1., 1., ..., 1., 1., 1.],\n",
       "       [1., 1., 1., ..., 1., 1., 1.],\n",
       "       [1., 1., 1., ..., 1., 1., 1.]])"
      ]
     },
     "execution_count": 4,
     "metadata": {},
     "output_type": "execute_result"
    }
   ],
   "source": [
    "\n",
    "np_grades = np.column_stack((grades_516,grades_520))\n",
    "np_grades[10]\n",
    "np_grades.shape\n",
    "np.std(np_grades[0])\n",
    "np.corrcoef(np_grades)"
   ]
  },
  {
   "cell_type": "code",
   "execution_count": 5,
   "metadata": {},
   "outputs": [
    {
     "data": {
      "text/plain": [
       "75.0"
      ]
     },
     "execution_count": 5,
     "metadata": {},
     "output_type": "execute_result"
    }
   ],
   "source": [
    "np.mean(np_grades)\n",
    "np.median(np_grades)"
   ]
  },
  {
   "cell_type": "code",
   "execution_count": 6,
   "metadata": {},
   "outputs": [
    {
     "data": {
      "text/plain": [
       "80.00000000000001"
      ]
     },
     "execution_count": 6,
     "metadata": {},
     "output_type": "execute_result"
    }
   ],
   "source": [
    "data_516 = np.asmatrix(grades_516)\n",
    "np.average(data_516)\n",
    "remainder_80 = np.array(80 - np.average(data_516))\n",
    "ave_80 = remainder_80 + data_516\n",
    "np.average(ave_80)"
   ]
  },
  {
   "cell_type": "code",
   "execution_count": 7,
   "metadata": {},
   "outputs": [
    {
     "name": "stdout",
     "output_type": "stream",
     "text": [
      "[184, 170, 177, 172]\n",
      "174.5\n"
     ]
    }
   ],
   "source": [
    "jobs = [ 'M', 'B', 'C','M', 'B', 'C','M', 'B', 'C','M', 'B', 'C',]\n",
    "heights = [184, 185, 180,170, 190, 175,177, 188, 185,172,165,165]\n",
    "m = []\n",
    "np.asarray(jobs)\n",
    "np.asarray(heights)\n",
    "\n",
    "pos = np.asarray(np.column_stack((jobs,heights)))\n",
    "for i in range(12):\n",
    "    if(pos[i][0] == 'M'):\n",
    "        m.append(int(pos[i][1]))\n",
    "print(m)        \n",
    "np.sort(m,axis=None)\n",
    "print(np.median(m))\n",
    "    "
   ]
  },
  {
   "cell_type": "markdown",
   "metadata": {},
   "source": [
    "PW4 Matplotlib-1"
   ]
  },
  {
   "cell_type": "code",
   "execution_count": 6,
   "metadata": {},
   "outputs": [
    {
     "data": {
      "image/png": "[encoded data removed]",
      "text/plain": [
       "<Figure size 432x288 with 1 Axes>"
      ]
     },
     "metadata": {
      "needs_background": "light"
     },
     "output_type": "display_data"
    }
   ],
   "source": [
    "import matplotlib.pyplot as plt \n",
    "import pandas as pd\n",
    "import numpy as np\n",
    "year=[2001,2002,2003,2004,2005,2006,2007,2008,2009,2010,2011,2012,2013,2014,2015,2016,2017,2018]\n",
    "pas=[543800,575300,683700,1007000,1134300,1253400,1440700,756338,839514,796698,1348414,\n",
    "1560084,1651710,1770192,1803112,1961639,2331308,2279546] \n",
    "\n",
    "plt.plot(year, pas)\n",
    "plt.xlabel('Year', loc='center')\n",
    "plt.ylabel('Passenger', loc='center')\n",
    "plt.title('Flights')\n",
    "plt.xlim(2001,2025)\n",
    "\n",
    "p1 = np.polyfit(year, pas, 1)\n",
    "plt.scatter(year, pas)\n",
    "xlims = plt.xlim()\n",
    "year.insert(0, xlims[0])\n",
    "pas.insert(0, np.polyval(p1, xlims[0]))\n",
    "year.append(xlims[1])\n",
    "pas.append(np.polyval(p1, xlims[1]))\n",
    "plt.plot(year, np.polyval(p1,year), 'r-', linewidth = 1.5)\n",
    "plt.xlim(xlims)\n",
    "\n",
    "plt.show()"
   ]
  },
  {
   "cell_type": "code",
   "execution_count": 5,
   "metadata": {},
   "outputs": [
    {
     "name": "stdout",
     "output_type": "stream",
     "text": [
      "              Country Name  Life expectancy   GDP growth (annual %)  \\\n",
      "0              Afghanistan         64.486000               1.840089   \n",
      "1               Azerbaijan         72.864000               1.500402   \n",
      "2                  Belgium         81.595122               1.487635   \n",
      "3   Bosnia and Herzegovina         77.262000               3.716251   \n",
      "4                   Brazil         75.672000               1.317224   \n",
      "5                   Cyprus         80.828000               4.056632   \n",
      "6                     Cuba         78.726000               2.248480   \n",
      "7                  Denmark         80.953659               2.391330   \n",
      "8           Czech Republic         79.029268               2.846058   \n",
      "9         Egypt, Arab Rep.         71.825000               5.314121   \n",
      "10                  France         82.724390               1.792864   \n",
      "11                 Finland         81.734146               1.630081   \n",
      "12                    Iraq         70.454000              -0.563615   \n",
      "13                   India         69.416000               6.119587   \n",
      "14                  Jordan         74.405000               1.940292   \n",
      "15                   Japan         84.210976               0.323207   \n",
      "16                   Italy         83.346341               0.798119   \n",
      "17                  Kuwait         75.398000               1.246274   \n",
      "18                 Lebanon         78.875000              -1.926405   \n",
      "19                Malaysia         75.997000               4.741606   \n",
      "20                  Mexico         74.992000               2.135958   \n",
      "21                 Morocco         76.453000               2.990214   \n",
      "22                   Niger         62.024000               7.004562   \n",
      "23             Netherlands         81.812195               2.597454   \n",
      "24                Pakistan         67.114000               5.836417   \n",
      "25                    Oman         77.633000               1.763388   \n",
      "26                  Norway         82.758537               1.289548   \n",
      "27                Portugal         81.324390               2.637246   \n",
      "28                   Qatar         80.100000               1.493340   \n",
      "29               Sri Lanka         76.812000               3.306417   \n",
      "30            South Africa         63.857000               0.787056   \n",
      "31                   Spain         83.431707               2.351008   \n",
      "32               Singapore         83.146341               3.438111   \n",
      "33            Turkmenistan         68.073000               6.200000   \n",
      "34    United Arab Emirates         77.814000               1.189856   \n",
      "35                 Vietnam         75.317000               7.075789   \n",
      "36                Zimbabwe         61.195000               4.829674   \n",
      "37             Yemen, Rep.         66.096000               0.752599   \n",
      "38                 Tunisia         76.505000               2.664453   \n",
      "39                  Turkey         77.437000               2.826776   \n",
      "40                   Sudan         65.095000              -2.320827   \n",
      "41            Saudi Arabia         74.998000               2.434111   \n",
      "42                 Romania         75.358537               4.436856   \n",
      "43             Philippines         71.095000               6.341486   \n",
      "\n",
      "    population continent   color  \n",
      "0     37172386      Asia     red  \n",
      "1      9939771      Asia     red  \n",
      "2     11427054    Europe   green  \n",
      "3      3323929    Europe   green  \n",
      "4    209469333  Americas  yellow  \n",
      "5      1189265      Asia     red  \n",
      "6     11338138  Americas  yellow  \n",
      "7      5793636    Europe   green  \n",
      "8     10629928    Europe   green  \n",
      "9     98423595    Africa    blue  \n",
      "10    66965912    Europe   green  \n",
      "11     5515525    Europe   green  \n",
      "12    38433600      Asia     red  \n",
      "13  1352617328      Asia     red  \n",
      "14     9956011      Asia     red  \n",
      "15   126529100      Asia     red  \n",
      "16    60421760    Europe   green  \n",
      "17     4137312      Asia     red  \n",
      "18     6848925      Asia     red  \n",
      "19    31528585      Asia     red  \n",
      "20   126190788  Americas  yellow  \n",
      "21    36029138    Africa    blue  \n",
      "22    22442948    Africa    blue  \n",
      "23    17231624    Europe   green  \n",
      "24   212215030      Asia     red  \n",
      "25     4829483      Asia     red  \n",
      "26     5311916    Europe   green  \n",
      "27    10283822    Europe   green  \n",
      "28     2781677      Asia     red  \n",
      "29    21670000      Asia     red  \n",
      "30    57779622    Africa    blue  \n",
      "31    46797754    Europe   green  \n",
      "32     5638676      Asia     red  \n",
      "33     5850908      Asia     red  \n",
      "34     9630959      Asia     red  \n",
      "35    95540395      Asia     red  \n",
      "36    14439018    Africa    blue  \n",
      "37    28498687      Asia     red  \n",
      "38    11565204    Africa    blue  \n",
      "39    82319724      Asia     red  \n",
      "40    41801533    Africa    blue  \n",
      "41    33699947      Asia     red  \n",
      "42    19472545    Europe   green  \n",
      "43   106651922      Asia     red  \n"
     ]
    },
    {
     "data": {
      "image/png": "[encoded data removed]",
      "text/plain": [
       "<Figure size 432x288 with 1 Axes>"
      ]
     },
     "metadata": {
      "needs_background": "light"
     },
     "output_type": "display_data"
    }
   ],
   "source": [
    "import matplotlib.pyplot as plt\n",
    "import pandas as pd\n",
    "import numpy as np\n",
    "\n",
    "#On moodle you will find an excel sheet having 3 columns representing data in 2018:\n",
    "#Country name, life expectancy, % of Gross Domestic Product\n",
    "#Do the necessary to import those data into python \n",
    "data = pd.read_excel(r'PW4\\PW4_data.xlsx')\n",
    "print(data)\n",
    "\n",
    "#Build a line chart, with gdp on the x-axis, and life exp on the y-axis. Does it make sense to plot this data on a line plot? \n",
    "x = list(data['GDP growth (annual %)'])\n",
    "y = list(data['Life expectancy '])\n",
    "\n",
    "#Try also scatter plot and put the x-axis on a logarithmic scale \n",
    "plt.scatter(x,y)\n",
    "\n",
    "#Modify the x and y labels and name them “% of GDP” and “life expectancy”. Also modify the title of the plot “World Development in 2018”\n",
    "plt.xlabel('“% of GDP”')\n",
    "plt.ylabel('life expectancy')\n",
    "plt.title('World Development in 2018')\n",
    "plt.xscale('log')\n",
    "\n",
    "#Modify the xticks and yticks to ameliorate your plot \n",
    "plt.xticks([0.5,1,10])\n",
    "plt.yticks([min(y),max(y),65,70,75,80])\n",
    "plt.show()"
   ]
  },
  {
   "cell_type": "code",
   "execution_count": 4,
   "metadata": {},
   "outputs": [
    {
     "name": "stdout",
     "output_type": "stream",
     "text": [
      "\n",
      "EX3\n",
      "\n",
      "[3.71723860e+01 9.93977100e+00 1.14270540e+01 3.32392900e+00\n",
      " 2.09469333e+02 1.18926500e+00 1.13381380e+01 5.79363600e+00\n",
      " 1.06299280e+01 9.84235950e+01 6.69659120e+01 5.51552500e+00\n",
      " 3.84336000e+01 1.35261733e+03 9.95601100e+00 1.26529100e+02\n",
      " 6.04217600e+01 4.13731200e+00 6.84892500e+00 3.15285850e+01\n",
      " 1.26190788e+02 3.60291380e+01 2.24429480e+01 1.72316240e+01\n",
      " 2.12215030e+02 4.82948300e+00 5.31191600e+00 1.02838220e+01\n",
      " 2.78167700e+00 2.16700000e+01 5.77796220e+01 4.67977540e+01\n",
      " 5.63867600e+00 5.85090800e+00 9.63095900e+00 9.55403950e+01\n",
      " 1.44390180e+01 2.84986870e+01 1.15652040e+01 8.23197240e+01\n",
      " 4.18015330e+01 3.36999470e+01 1.94725450e+01 1.06651922e+02]\n"
     ]
    },
    {
     "data": {
      "image/png": "[encoded data removed]",
      "text/plain": [
       "<Figure size 432x288 with 1 Axes>"
      ]
     },
     "metadata": {
      "needs_background": "light"
     },
     "output_type": "display_data"
    }
   ],
   "source": [
    "import matplotlib.pyplot as plt\n",
    "import pandas as pd\n",
    "import numpy as np\n",
    "\n",
    "df = pd.read_excel(r'PW4\\PW4_data.xlsx')\n",
    "\n",
    "#Create a numpy array for the population data after changing numbers in a scale of millions \n",
    "#Make the size of the dots corresponds to the population multiplied by 2 \n",
    "\n",
    "\n",
    "#To make the plot more colorful, create a list (from the data sheet) with a color for each corresponding country, those colors are depending on the continent the country is part of. \n",
    "\n",
    "#After creating the list, modify the plot so that it will take into consideration the color list. \n",
    "\n",
    "newdata = pd.DataFrame({'Country Name': ['Anhfjhfas','baafdafda'],\n",
    "                    'Life expectancy': [91.3,35.11],\n",
    "                    'GDP growth (annual %)': [3.13,6.5],\n",
    "                    'population': [409469333,109469333],\n",
    "                    'continent': ['Asia','Europe'],\t\n",
    "                    'color': ['red','green']})\n",
    "data = data.append(newdata, ignore_index = True)\n",
    "population = np.asarray(list(data['population']/1000000))\n",
    "size = list(data['population']*2/1000000)\n",
    "country = np.asarray(list(data['Country Name']))\n",
    "colors = list(data['color'])\n",
    "continent = list(data['continent'])\n",
    "plt.scatter(population, country, size, color=colors)\n",
    "print(data['Country Name'])\n",
    "\n",
    "# notation example\n",
    "# df = pd.read_excel(r'PW4\\PW4_data.xlsx')\n",
    "# x = df['GDP growth (annual %)']\n",
    "# y = df['Life expectancy ']\n",
    "# print('\\nEX3\\n')\n",
    "# population = np.array(df['population']) / 1000000\n",
    "# print(population)\n",
    "# z = df['color']\n",
    "# plt.annotate(xy=[9939771/10**6, 72.86], text= 'Azerbaijan')\n",
    "# plt.annotate(xy=[11338138/10**6, 78.73], text= 'Cuba')\n",
    "# plt.annotate(xy=[66965912/10**6, 82.72], text= 'France')\n",
    "# plt.annotate(xy=[1352617328/10**6, 69.42], text= 'India')\n",
    "# plt.annotate(xy=[57779622/10**6, 63.86], text= 'South Africa')\n",
    "\n",
    "# plt.scatter(population,y,s= population*2, color = z )\n",
    "# plt.show()\n",
    "\n"
   ]
  },
  {
   "cell_type": "markdown",
   "metadata": {},
   "source": [
    "PW 5: Matplotlib-2 & Dictionaries\n"
   ]
  },
  {
   "cell_type": "code",
   "execution_count": 52,
   "metadata": {},
   "outputs": [
    {
     "data": {
      "image/png": "[encoded data removed]",
      "text/plain": [
       "<Figure size 432x288 with 1 Axes>"
      ]
     },
     "metadata": {
      "needs_background": "light"
     },
     "output_type": "display_data"
    },
    {
     "data": {
      "image/png": "[encoded data removed]",
      "text/plain": [
       "<Figure size 432x288 with 1 Axes>"
      ]
     },
     "metadata": {
      "needs_background": "light"
     },
     "output_type": "display_data"
    }
   ],
   "source": [
    "import matplotlib.pyplot as plt\n",
    "import pandas as pd\n",
    "import numpy as np\n",
    "\n",
    "#Build a histogram of life_exp with 15 bins for 2018 and another one for 1970\n",
    "data2018 = pd.read_excel(r'PW4\\PW4_data.xlsx')\n",
    "data1970 = pd.read_excel(r'PW5\\PW5_data.xlsx')\n",
    "\n",
    "country = np.asarray(list(data1970['Country Name']))\n",
    "life1970 = np.array(list(data1970['Life_exp_1970']))\n",
    "plt.hist(life1970, bins=15, histtype='bar', rwidth=0.8, color='r')\n",
    "plt.show()\n",
    "country = np.asarray(list(data2018['Country Name']))\n",
    "life2018 = np.array(list(data2018['Life expectancy ']))\n",
    "plt.hist(life2018, bins=15, histtype='bar', rwidth=0.8, color='g')\n",
    "plt.show()\n",
    "\n"
   ]
  },
  {
   "cell_type": "code",
   "execution_count": 58,
   "metadata": {},
   "outputs": [
    {
     "name": "stdout",
     "output_type": "stream",
     "text": [
      "{'azerbaijan': 'baku', 'iran': 'tehran', 'turkey': 'ankara', 'iraq': 'baghdad'}\n",
      "dict_keys(['azerbaijan', 'iran', 'turkey', 'iraq'])\n",
      "baghdad\n",
      "{'azerbaijan': 'baku', 'iran': 'tehran', 'turkey': 'ankara', 'iraq': 'baghdad', 'pakistan': 'islamabad'}\n"
     ]
    }
   ],
   "source": [
    "import matplotlib.pyplot as plt\n",
    "import pandas as pd\n",
    "import numpy as np\n",
    "\n",
    "#Convert the following lists of countries and capitals to a dictionary named “atlas”: \n",
    "countries = ['azerbaijan', 'iran', 'turkey', 'iraq']\n",
    "capitals = ['baku', 'tehran', 'ankara', 'baghdad'] \n",
    "atlas = {countries[i]:capitals[i] for i in range(len(countries))}\n",
    "print(atlas)\n",
    "\n",
    "#Call all the keys in one command\n",
    "print(atlas.keys())\n",
    "\n",
    "#Call the capital of iraq \n",
    "print(atlas.get('iraq'))\n",
    "\n",
    "#Add pakistan and its capital to the dictionary\n",
    "atlas['pakistan'] = 'islamabad'\n",
    "\n",
    "print(atlas)"
   ]
  },
  {
   "cell_type": "code",
   "execution_count": 7,
   "metadata": {},
   "outputs": [
    {
     "name": "stdout",
     "output_type": "stream",
     "text": [
      "{'azerbaijan': ['capital: baku', 'population = 10.11'], 'iran': ['capital: tehran', 'population = 83.99'], 'turkey': ['capital: ankara', 'population = 84.34'], 'iraq': ['capital: baghdad', 'population = 40.22']}\n"
     ]
    }
   ],
   "source": [
    "import matplotlib.pyplot as plt\n",
    "import pandas as pd\n",
    "import numpy as np\n",
    "\n",
    "atlas= {'azerbaijan':'baku', 'iran':'techram','turkey':'ankara','iraq':'baghdad','road1':'ZA str'} \n",
    "countries = ['azerbaijan', 'iran', 'turkey', 'iraq']\n",
    "#Clean up the dictionary, modify the capital of iran and remove road1 from the dictionary. \n",
    "atlas['iran'] = 'techran'\n",
    "atlas.pop('road1')\n",
    "\n",
    "atlas['azerbaijan'] = [ 'capital: baku', 'population = 10.11']\n",
    "atlas['iran'] = [ 'capital: tehran', 'population = 83.99']\n",
    "atlas['turkey'] = [ 'capital: ankara', 'population = 84.34']\n",
    "atlas['iraq'] = [ 'capital: baghdad', 'population = 40.22']\n",
    "\n",
    "print(atlas)\n",
    "\n"
   ]
  },
  {
   "cell_type": "markdown",
   "metadata": {},
   "source": [
    "PW 6: Pandas"
   ]
  },
  {
   "cell_type": "code",
   "execution_count": 18,
   "metadata": {},
   "outputs": [
    {
     "name": "stdout",
     "output_type": "stream",
     "text": [
      "           country  population   area\n",
      "US   United States       331.7   9.80\n",
      "AUS      Australia        25.6   7.70\n",
      "JPN          Japan       126.3   0.37\n",
      "IN           India      1385.3   3.30\n",
      "RU          Russia       145.9  17.10\n",
      "MOR        Morocco        37.0   0.44\n",
      "EG           Egypt       103.0   1.01\n"
     ]
    }
   ],
   "source": [
    "import matplotlib.pyplot as plt\n",
    "import pandas as pd\n",
    "import numpy as np\n",
    "\n",
    "names = ['United States', 'Australia', 'Japan', 'India', 'Russia', 'Morocco', 'Egypt']\n",
    "population = [331.7, 25.6, 126.3, 1385.3, 145.9, 37, 103]\n",
    "area = [9.8, 7.7, 0.37, 3.3, 17.1, 0.44, 1.01]\n",
    "row_labels = ['US', 'AUS', 'JPN', 'IN', 'RU', 'MOR', 'EG'] \n",
    "\n",
    "#Use the predefined lists to create a dictionary called my_dict\n",
    "my_dict={'country':names, 'population':population, 'area':area}\n",
    "\n",
    "#Using Pandas, turn your dictionary into a DataFrame called atlas \n",
    "atlas = pd.DataFrame(my_dict)\n",
    "\n",
    "#Change the index in your pandas to be equal to labels \n",
    "atlas.index = row_labels\n",
    "\n",
    "print(atlas)"
   ]
  },
  {
   "cell_type": "code",
   "execution_count": 33,
   "metadata": {},
   "outputs": [
    {
     "name": "stdout",
     "output_type": "stream",
     "text": [
      "0    UZB\n",
      "1    TKM\n",
      "2    AZE\n",
      "3    KAZ\n",
      "4    PAK\n",
      "dtype: object\n",
      "     0\n",
      "0  UZB\n",
      "1  TKM\n",
      "2  AZE\n",
      "3  KAZ\n",
      "4  PAK\n",
      "  Country Code  Population ages 0-14 (% of total)  \\\n",
      "0          UZB                          28.686057   \n",
      "1          TKM                          30.822364   \n",
      "2          AZE                          23.369570   \n",
      "\n",
      "   Population ages 15-64 (% of total)  \\\n",
      "0                           66.894805   \n",
      "1                           64.751002   \n",
      "2                           70.435247   \n",
      "\n",
      "   Population ages 65 and above (% of total)  \n",
      "0                                   4.419138  \n",
      "1                                   4.426634  \n",
      "2                                   6.195183  \n",
      "  Country Code  Population ages 0-14 (% of total)  \\\n",
      "4          PAK                          35.269815   \n",
      "\n",
      "   Population ages 15-64 (% of total)  \\\n",
      "4                           60.417411   \n",
      "\n",
      "   Population ages 65 and above (% of total)  \n",
      "4                                   4.312774  \n",
      "   Population ages 15-64 (% of total)  \\\n",
      "0                           66.894805   \n",
      "1                           64.751002   \n",
      "2                           70.435247   \n",
      "3                           64.147604   \n",
      "4                           60.417411   \n",
      "\n",
      "   Population ages 65 and above (% of total)  \n",
      "0                                   4.419138  \n",
      "1                                   4.426634  \n",
      "2                                   6.195183  \n",
      "3                                   7.391846  \n",
      "4                                   4.312774  \n"
     ]
    }
   ],
   "source": [
    "import matplotlib.pyplot as plt\n",
    "import pandas as pd\n",
    "import numpy as np\n",
    "\n",
    "dt = pd.read_csv('PW6/PW6_data.csv')\n",
    "\n",
    "# Print a column as Pandas Series and then print the same column as Pandas DataFrame \n",
    "ps = dt['Country Code']\n",
    "print(pd.Series(np.array(ps)))\n",
    "print(pd.DataFrame(np.array(ps)))\n",
    "\n",
    "# Print out first 3 observations\n",
    "print(dt.iloc[:3])\n",
    "\n",
    "# Print out fourth, fifth and sixth observation \n",
    "print(dt.iloc[4:6])\n",
    "\n",
    "#Choose two columns and use double square brackets to print them out as a DataFrame in an order that you precise. \n",
    "columns = dt[['Population ages 15-64 (% of total)','Population ages 65 and above (% of total)']]\n",
    "\n",
    "print(columns)"
   ]
  },
  {
   "cell_type": "code",
   "execution_count": 41,
   "metadata": {},
   "outputs": [
    {
     "name": "stdout",
     "output_type": "stream",
     "text": [
      "Country Code                                       PAK\n",
      "Population ages 0-14 (% of total)            35.269815\n",
      "Population ages 15-64 (% of total)           60.417411\n",
      "Population ages 65 and above (% of total)     4.312774\n",
      "Name: 4, dtype: object\n",
      "  Country Code  Population ages 0-14 (% of total)  \\\n",
      "2          AZE                          23.369570   \n",
      "4          PAK                          35.269815   \n",
      "\n",
      "   Population ages 15-64 (% of total)  \\\n",
      "2                           70.435247   \n",
      "4                           60.417411   \n",
      "\n",
      "   Population ages 65 and above (% of total)  \n",
      "2                                   6.195183  \n",
      "4                                   4.312774  \n",
      "0    66.894805\n",
      "1    64.751002\n",
      "2    70.435247\n",
      "3    64.147604\n",
      "4    60.417411\n",
      "Name: Population ages 15-64 (% of total), dtype: float64\n",
      "  Country Code  Population ages 0-14 (% of total)  \\\n",
      "2          AZE                          23.369570   \n",
      "4          PAK                          35.269815   \n",
      "\n",
      "   Population ages 15-64 (% of total)  \\\n",
      "2                           70.435247   \n",
      "4                           60.417411   \n",
      "\n",
      "   Population ages 65 and above (% of total)  \n",
      "2                                   6.195183  \n",
      "4                                   4.312774  \n"
     ]
    },
    {
     "data": {
      "text/html": [
       "<div>\n",
       "<style scoped>\n",
       "    .dataframe tbody tr th:only-of-type {\n",
       "        vertical-align: middle;\n",
       "    }\n",
       "\n",
       "    .dataframe tbody tr th {\n",
       "        vertical-align: top;\n",
       "    }\n",
       "\n",
       "    .dataframe thead th {\n",
       "        text-align: right;\n",
       "    }\n",
       "</style>\n",
       "<table border=\"1\" class=\"dataframe\">\n",
       "  <thead>\n",
       "    <tr style=\"text-align: right;\">\n",
       "      <th></th>\n",
       "      <th>Population ages 0-14 (% of total)</th>\n",
       "      <th>Population ages 15-64 (% of total)</th>\n",
       "    </tr>\n",
       "  </thead>\n",
       "  <tbody>\n",
       "    <tr>\n",
       "      <th>0</th>\n",
       "      <td>28.686057</td>\n",
       "      <td>66.894805</td>\n",
       "    </tr>\n",
       "    <tr>\n",
       "      <th>1</th>\n",
       "      <td>30.822364</td>\n",
       "      <td>64.751002</td>\n",
       "    </tr>\n",
       "    <tr>\n",
       "      <th>2</th>\n",
       "      <td>23.369570</td>\n",
       "      <td>70.435247</td>\n",
       "    </tr>\n",
       "    <tr>\n",
       "      <th>3</th>\n",
       "      <td>28.460550</td>\n",
       "      <td>64.147604</td>\n",
       "    </tr>\n",
       "    <tr>\n",
       "      <th>4</th>\n",
       "      <td>35.269815</td>\n",
       "      <td>60.417411</td>\n",
       "    </tr>\n",
       "  </tbody>\n",
       "</table>\n",
       "</div>"
      ],
      "text/plain": [
       "   Population ages 0-14 (% of total)  Population ages 15-64 (% of total)\n",
       "0                          28.686057                           66.894805\n",
       "1                          30.822364                           64.751002\n",
       "2                          23.369570                           70.435247\n",
       "3                          28.460550                           64.147604\n",
       "4                          35.269815                           60.417411"
      ]
     },
     "execution_count": 41,
     "metadata": {},
     "output_type": "execute_result"
    }
   ],
   "source": [
    "import matplotlib.pyplot as plt\n",
    "import pandas as pd\n",
    "import numpy as np\n",
    "\n",
    "dt = pd.read_csv('PW6/PW6_data.csv')\n",
    "\n",
    "# print out observation for Pakistan \n",
    "print(dt.iloc[4])\n",
    "# Print out observations for 2 different countries that you choose \n",
    "print(dt.iloc[[2,4]])\n",
    "# Print out % of 15-64 population of Azerbaijan \n",
    "print(dt['Population ages 15-64 (% of total)'])\n",
    "\n",
    "#Print out a sub-DataFrame, containing the observations for Azerbaijan and Pakistan and the columns country and %population 15-64\n",
    "print(dt.iloc[[2,4]])\n",
    "\n",
    "# Print out % population 0-14 column as Series \n",
    "pd.Series(dt['Population ages 15-64 (% of total)'])\n",
    "\n",
    "# Print out % population 0-14 column as DataFrame \n",
    "pd.DataFrame(dt['Population ages 15-64 (% of total)'])\n",
    "\n",
    "# Print out % population 0-14 and % population 15-64 as DataFrame \n",
    "pd.DataFrame(dt[['Population ages 0-14 (% of total)','Population ages 15-64 (% of total)']])\n"
   ]
  },
  {
   "cell_type": "markdown",
   "metadata": {},
   "source": [
    "PW 7: Operators/Equality"
   ]
  },
  {
   "cell_type": "code",
   "execution_count": 42,
   "metadata": {},
   "outputs": [
    {
     "name": "stdout",
     "output_type": "stream",
     "text": [
      "False\n",
      "False\n",
      "False\n",
      "True\n",
      "False\n",
      "True\n",
      "True\n",
      "False\n"
     ]
    }
   ],
   "source": [
    "if True == False:\n",
    "    print(True)\n",
    "else:\n",
    "    print(False)\n",
    "\n",
    "if -5*15 == 75:\n",
    "    print(True)\n",
    "else:\n",
    "    print(False)\n",
    "\n",
    "if \"pyscript\" == \"PyScript\":\n",
    "    print(True)\n",
    "else:\n",
    "    print(False)\n",
    "    \n",
    "x = 5\n",
    "if x > -10*x:\n",
    "    print(True)\n",
    "else:\n",
    "    print(False)\n",
    "\n",
    "y = \"test\"\n",
    "Y = 3\n",
    "if y > y*Y:\n",
    "    print(True)\n",
    "else:\n",
    "    print(False)\n",
    "\n",
    "if True > False:\n",
    "    print(True)\n",
    "else:\n",
    "    print(False)\n",
    "\n",
    "My_kitchen = 12\n",
    "if 10 < My_kitchen & My_kitchen < 18:\n",
    "    print(True)\n",
    "else:\n",
    "    print(False)\n",
    "\n",
    "if My_kitchen < 14 | My_kitchen > 17:\n",
    "    print(True)\n",
    "else:\n",
    "    print(False)"
   ]
  },
  {
   "cell_type": "code",
   "execution_count": 75,
   "metadata": {},
   "outputs": [
    {
     "name": "stdout",
     "output_type": "stream",
     "text": [
      "[ True  True False  True  True False False]\n",
      "['Japan' 'Russia' 'Morocco' 'Egypt']\n",
      "['Japan' 'Egypt']\n",
      "['Big' 'Medium' 'Small' 'Medium' 'Big' 'Small' 'Small']\n",
      "[20.   10.75]\n"
     ]
    }
   ],
   "source": [
    "import matplotlib.pyplot as plt\n",
    "import pandas as pd\n",
    "import numpy as np\n",
    "\n",
    "names = ['United States', 'Australia', 'Japan', 'India', 'Russia', 'Morocco', 'Egypt']\n",
    "population = [331.7, 25.6, 126.3, 1385.3, 145.9, 37, 103]\n",
    "area = [9.8, 7.7, 0.37, 3.3, 17.1, 0.44, 1.01] \n",
    "\n",
    "#Convert the 2 given lists into numpy arrays\n",
    "np_names = np.array(names)\n",
    "np_area = np.array(area)\n",
    "np_population = np.array(population)\n",
    "\n",
    "#Which areas are greater than or equal to 3? \n",
    "area3 = np_area>=3\n",
    "print(area3)\n",
    "\n",
    "area2 = np_names[(np_area>=16.5) | (np_area<2)]\n",
    "print(area2)\n",
    "\n",
    "#Which countries have an area less than 3 and a population greater than 50 \n",
    "area50 = np_names[(np_area<3) & (np_population>50)]\n",
    "print(area50)\n",
    "\n",
    "#Create a new numpy array called “size” that will be created after “area” array \n",
    "#1st solution\n",
    "# size = np.array(area)\n",
    "# dict = pd.DataFrame({\n",
    "#     'Big': [np_names[size>=8]],\n",
    "#     'Medium': [np_names[(size>3) & (size<8)]],\n",
    "#     'Small': [np_names[size<3]]})\n",
    "# print(dict)\n",
    "\n",
    "##Create a new numpy array called “size” that will be created after “area” array \n",
    "#2nd solution\n",
    "condlist = [np_area >= 8, np.logical_and(np_area >= 3, np_area < 8), np_area < 3]\n",
    "choicelist = ['Big', 'Medium', 'Small']\n",
    "\n",
    "size = np.select(condlist, choicelist)\n",
    "\n",
    "print(size)\n",
    "\n",
    "#Which areas in my_house are smaller than the ones in your_house? \n",
    "my_house = [18.0, 20.0, 10.75, 9.50]\n",
    "your_house =[14.0, 24.0, 14.25, 9.0] \n",
    "\n",
    "np_my_house = np.array(my_house)\n",
    "np_your_house = np.array(your_house)\n",
    "\n",
    "print(np_my_house[np_my_house<np_your_house])\n",
    "\n",
    " "
   ]
  },
  {
   "cell_type": "code",
   "execution_count": 106,
   "metadata": {},
   "outputs": [
    {
     "name": "stdout",
     "output_type": "stream",
     "text": [
      "            A           B      C\n",
      "0  [AZE, KAZ]  [TKM, PAK]  [UZB]\n"
     ]
    }
   ],
   "source": [
    "import matplotlib.pyplot as plt\n",
    "import pandas as pd\n",
    "import numpy as np\n",
    "\n",
    "dt = pd.read_csv('PW6/PW6_data.csv')\n",
    "\n",
    "#Create a new column in the Data Frame that categorize the listed countries as follows: \n",
    "#1st solution\n",
    "# country = np.array(dt['Country Code'])\n",
    "# pa0 = np.array(dt['Population ages 0-14 (% of total)'])\n",
    "# pa15 = np.array(dt['Population ages 15-64 (% of total)'])\n",
    "# pa65 = np.array(dt['Population ages 65 and above (% of total)'])\n",
    "\n",
    "# dict = pd.DataFrame({\n",
    "#     'A': [country[(pa65>5) & (pa0<30)]],\n",
    "#     'B': [country[(pa65<5) & (pa0>30)]],\n",
    "#     'C': [country[(((pa65<=5) & (pa0<=30)) | ((pa65>=5) & (pa0>=30))) ]] \n",
    "#     })\n",
    "\n",
    "# print(dict)\n",
    "\n",
    "#2nd solution\n",
    "column = dt['Population ages 0-14 (% of total)']\n",
    "max_value = column.max()\n",
    "\n",
    "column1 = dt['Population ages 15-64 (% of total)']\n",
    "max_value1 = column1.max()\n",
    "\n",
    "column2 = dt['Population ages 65 and above (% of total)']\n",
    "max_value2 = column2.max()\n",
    "print('\\n','Highest percentage of population aged between 0 and 14:',max_value,'\\n','Highest percentage of population aged between 15 and 64: ',max_value1,'\\n','Highest percentage of population aged above 65: ', max_value2)\n",
    "\n",
    "condlist = [np.logical_and(column2 > 5, column < 30), np.logical_and(column2 < 5 , column > 30) ]\n",
    "choicelist = ['A', 'B']\n",
    "\n",
    "dt['categories'] = np.select(condlist, choicelist, default='C')\n",
    "print(dt)"
   ]
  },
  {
   "cell_type": "markdown",
   "metadata": {},
   "source": [
    "PW 8: Random float"
   ]
  },
  {
   "cell_type": "code",
   "execution_count": 181,
   "metadata": {},
   "outputs": [
    {
     "name": "stdout",
     "output_type": "stream",
     "text": [
      "0.3500175787175892\n",
      "2 0\n"
     ]
    }
   ],
   "source": [
    "import matplotlib.pyplot as plt\n",
    "import pandas as pd\n",
    "import numpy as np\n",
    "\n",
    "#1. Generate your first random float and print it out \n",
    "print(np.random.rand())\n",
    "step = 0\n",
    "#Monopoly \n",
    "dice = np.random.randint(1,7)\n",
    "game = []\n",
    "if dice <=2:\n",
    "    step = max(step-1, 0)\n",
    "elif dice <=5:\n",
    "    step+=1\n",
    "else:\n",
    "    step += dice        \n",
    "print(dice, step)"
   ]
  },
  {
   "cell_type": "code",
   "execution_count": null,
   "metadata": {},
   "outputs": [],
   "source": [
    "import matplotlib.pyplot as plt\n",
    "import pandas as pd\n",
    "import numpy as np\n",
    "\n",
    "step = 0\n",
    "#Monopoly \n",
    "dice = np.random.randint(1,7)\n",
    "game = []\n",
    "for i in range(100):\n",
    "    if dice <=2:\n",
    "        step = max(step-1, 0)\n",
    "    elif dice <=5:\n",
    "        step+=1\n",
    "    else:\n",
    "        step += dice        \n",
    "    print(dice, step)"
   ]
  }
 ],
 "metadata": {
  "interpreter": {
   "hash": "1f8d80d535cfd832283e4e3a1095d2ce45fe6627336684f2622a1965babb2f1c"
  },
  "kernelspec": {
   "display_name": "Python 3.9.10 64-bit (windows store)",
   "language": "python",
   "name": "python3"
  },
  "language_info": {
   "codemirror_mode": {
    "name": "ipython",
    "version": 3
   },
   "file_extension": ".py",
   "mimetype": "text/x-python",
   "name": "python",
   "nbconvert_exporter": "python",
   "pygments_lexer": "ipython3",
   "version": "3.9.10"
  },
  "orig_nbformat": 4
 },
 "nbformat": 4,
 "nbformat_minor": 2
}
